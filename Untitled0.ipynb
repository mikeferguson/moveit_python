{
 "metadata": {
  "name": "",
  "signature": "sha256:72d63d5a263c5afc34e13612705cba1934eb02b23a91430750ce3100eb77f526"
 },
 "nbformat": 3,
 "nbformat_minor": 0,
 "worksheets": []
}